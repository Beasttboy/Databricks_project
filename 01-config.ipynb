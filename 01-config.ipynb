{
 "cells": [
  {
   "cell_type": "code",
   "execution_count": 0,
   "metadata": {
    "application/vnd.databricks.v1+cell": {
     "cellMetadata": {},
     "inputWidgets": {},
     "nuid": "9422585a-1bad-464d-ab05-6106894b2c3c",
     "showTitle": false,
     "tableResultSettingsMap": {},
     "title": ""
    }
   },
   "outputs": [],
   "source": [
    "class Config():    \n",
    "    def __init__(self):      \n",
    "        self.base_dir_data = spark.sql(\"describe external location `data_zone`\").select(\"url\").collect()[0][0]\n",
    "        self.base_dir_checkpoint = spark.sql(\"describe external location `checkpoint`\").select(\"url\").collect()[0][0]\n",
    "        self.db_name = \"sbit_db\"\n",
    "        self.maxFilesPerTrigger = 1000\n"
   ]
  }
 ],
 "metadata": {
  "application/vnd.databricks.v1+notebook": {
   "computePreferences": null,
   "dashboards": [],
   "environmentMetadata": {
    "base_environment": "",
    "environment_version": "2"
   },
   "inputWidgetPreferences": null,
   "language": "python",
   "notebookMetadata": {
    "pythonIndentUnit": 4
   },
   "notebookName": "01-config",
   "widgets": {}
  },
  "language_info": {
   "name": "python"
  }
 },
 "nbformat": 4,
 "nbformat_minor": 0
}
